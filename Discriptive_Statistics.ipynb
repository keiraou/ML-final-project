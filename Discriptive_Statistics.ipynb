{
 "cells": [
  {
   "cell_type": "code",
   "execution_count": 50,
   "metadata": {},
   "outputs": [],
   "source": [
    "import math\n",
    "import numpy as np\n",
    "import pandas as pd\n",
    "import matplotlib.pyplot as plt\n",
    "import seaborn as sns\n",
    "import pylab as pl\n",
    "\n",
    "from sklearn.model_selection import train_test_split, GridSearchCV\n",
    "from sklearn.pipeline import Pipeline \n",
    "from sklearn import metrics\n",
    "\n",
    "import warnings\n",
    "warnings.filterwarnings('ignore')"
   ]
  },
  {
   "cell_type": "code",
   "execution_count": 19,
   "metadata": {},
   "outputs": [],
   "source": [
    "import data_explore\n",
    "import pipeline_tree\n",
    "import pipeline_classification"
   ]
  },
  {
   "cell_type": "code",
   "execution_count": 9,
   "metadata": {},
   "outputs": [],
   "source": [
    "FILES = ['cleaned_data/cambodia_2014_cleaned.csv', \n",
    "         'cleaned_data/Maldives_2016_cleaned.csv', \n",
    "         'cleaned_data/Nepal_2016_cleaned.csv',\n",
    "         'cleaned_data/Pakistan_2017_cleaned.csv',\n",
    "         'cleaned_data/Philippines_2017_cleaned.csv']\n",
    "\n",
    "COUNTRY_DATA = {\n",
    "    'Cambodia': 'cleaned_data/cambodia_2014_cleaned.csv', \n",
    "    'Maldives': 'cleaned_data/Maldives_2016_cleaned.csv', \n",
    "    'Nepal': 'cleaned_data/Nepal_2016_cleaned.csv',\n",
    "    'Pakistan': 'cleaned_data/Pakistan_2017_cleaned.csv',\n",
    "    'Philippines': 'cleaned_data/Philippines_2017_cleaned.csv'   \n",
    "}\n",
    "\n",
    "def create_df_each_country():\n",
    "    \n",
    "    df_dic = {}\n",
    "    for country, file in COUNTRY_DATA.items():\n",
    "        df = pd.read_csv(file)\n",
    "        df_dic[country] = df\n",
    "        \n",
    "        if 'country' in df.columns:\n",
    "            df.drop(columns=['country'],inplace=True)\n",
    "    return df_dic\n",
    "\n",
    "def create_df_all_countries():\n",
    "    \n",
    "    df_dic={}\n",
    "    for country, file in COUNTRY_DATA.items():\n",
    "        df = pd.read_csv(file)\n",
    "        df['country'] = country        \n",
    "        df_dic[country] = df\n",
    "                 \n",
    "    df = pd.concat(df_dic.values(), ignore_index=True)\n",
    "    return df\n",
    "\n",
    "#create dataframe containing all 5 countries\n",
    "df = create_df_all_countries()\n",
    "\n",
    "#create dataframe for each country\n",
    "\n",
    "df_dic = create_df_each_country()\n",
    "\n",
    "df_Cambodia = df_dic['Cambodia']\n",
    "df_Maldives = df_dic['Maldives']\n",
    "df_Nepal = df_dic['Nepal']\n",
    "df_Pakistan = df_dic['Pakistan']\n",
    "df_Philippines = df_dic['Philippines']"
   ]
  },
  {
   "cell_type": "code",
   "execution_count": 61,
   "metadata": {},
   "outputs": [],
   "source": [
    "NUMERIC_FEATURES = ['age','education','num_household','num_child',\n",
    "                    'partner_edu','if_own_house','if_employment_current']\n",
    "CATGORICAL_FEATURES = ['if_urban','wealth_index','if_earn_more','sex_head_household', \n",
    "              'partner_ideal_child','money_decide_person']\n",
    "FEATURES = NUMERIC_FEATURES + CATGORICAL_FEATURES\n",
    "TARGET_LST = ['if_emo_vio', 'if_phy_vio', 'if_sex_vio', 'if_vio']"
   ]
  },
  {
   "cell_type": "code",
   "execution_count": null,
   "metadata": {},
   "outputs": [],
   "source": []
  },
  {
   "cell_type": "code",
   "execution_count": null,
   "metadata": {},
   "outputs": [],
   "source": []
  },
  {
   "cell_type": "code",
   "execution_count": 38,
   "metadata": {},
   "outputs": [],
   "source": [
    "def missing_propotion(df):\n",
    "    \n",
    "        prop_dic={}\n",
    "    for col in df:\n",
    "        val_prop = df[col].isna().astype(int).sum()/df.shape[0]\n",
    "        if val_prop !=0:\n",
    "            prop_dic[col] = [val_prop]\n",
    "        \n",
    "    return prop_dic"
   ]
  },
  {
   "cell_type": "code",
   "execution_count": 62,
   "metadata": {},
   "outputs": [],
   "source": [
    "features_none_prop = missing_propotion(df[FEATURES])\n",
    "target_none_prop = missing_propotion(df[TARGET_LST])"
   ]
  },
  {
   "cell_type": "code",
   "execution_count": 63,
   "metadata": {},
   "outputs": [],
   "source": [
    "features_none_df = pd.DataFrame.from_dict(features_none_prop, orient='index', \\\n",
    "                                          columns=['None Value Proportion']).reset_index()\n",
    "features_none_df.columns = ['Features', 'None Value Proportion']\n",
    "\n",
    "target_none_df = pd.DataFrame.from_dict(target_none_prop, orient='index', \\\n",
    "                                        columns=['None Value Proportion']).reset_index()\n",
    "target_none_df.columns = ['Target', 'None Value Proportion'] "
   ]
  },
  {
   "cell_type": "code",
   "execution_count": 64,
   "metadata": {},
   "outputs": [
    {
     "data": {
      "text/html": [
       "<div>\n",
       "<style scoped>\n",
       "    .dataframe tbody tr th:only-of-type {\n",
       "        vertical-align: middle;\n",
       "    }\n",
       "\n",
       "    .dataframe tbody tr th {\n",
       "        vertical-align: top;\n",
       "    }\n",
       "\n",
       "    .dataframe thead th {\n",
       "        text-align: right;\n",
       "    }\n",
       "</style>\n",
       "<table border=\"1\" class=\"dataframe\">\n",
       "  <thead>\n",
       "    <tr style=\"text-align: right;\">\n",
       "      <th></th>\n",
       "      <th>Features</th>\n",
       "      <th>None Value Proportion</th>\n",
       "    </tr>\n",
       "  </thead>\n",
       "  <tbody>\n",
       "    <tr>\n",
       "      <th>0</th>\n",
       "      <td>partner_edu</td>\n",
       "      <td>0.000175</td>\n",
       "    </tr>\n",
       "    <tr>\n",
       "      <th>1</th>\n",
       "      <td>if_earn_more</td>\n",
       "      <td>0.604648</td>\n",
       "    </tr>\n",
       "    <tr>\n",
       "      <th>2</th>\n",
       "      <td>partner_ideal_child</td>\n",
       "      <td>0.081713</td>\n",
       "    </tr>\n",
       "    <tr>\n",
       "      <th>3</th>\n",
       "      <td>money_decide_person</td>\n",
       "      <td>0.604648</td>\n",
       "    </tr>\n",
       "  </tbody>\n",
       "</table>\n",
       "</div>"
      ],
      "text/plain": [
       "              Features  None Value Proportion\n",
       "0          partner_edu               0.000175\n",
       "1         if_earn_more               0.604648\n",
       "2  partner_ideal_child               0.081713\n",
       "3  money_decide_person               0.604648"
      ]
     },
     "execution_count": 64,
     "metadata": {},
     "output_type": "execute_result"
    }
   ],
   "source": [
    "features_none_df"
   ]
  },
  {
   "cell_type": "code",
   "execution_count": 65,
   "metadata": {},
   "outputs": [
    {
     "data": {
      "text/html": [
       "<div>\n",
       "<style scoped>\n",
       "    .dataframe tbody tr th:only-of-type {\n",
       "        vertical-align: middle;\n",
       "    }\n",
       "\n",
       "    .dataframe tbody tr th {\n",
       "        vertical-align: top;\n",
       "    }\n",
       "\n",
       "    .dataframe thead th {\n",
       "        text-align: right;\n",
       "    }\n",
       "</style>\n",
       "<table border=\"1\" class=\"dataframe\">\n",
       "  <thead>\n",
       "    <tr style=\"text-align: right;\">\n",
       "      <th></th>\n",
       "      <th>Target</th>\n",
       "      <th>None Value Proportion</th>\n",
       "    </tr>\n",
       "  </thead>\n",
       "  <tbody>\n",
       "    <tr>\n",
       "      <th>0</th>\n",
       "      <td>if_emo_vio</td>\n",
       "      <td>0.536079</td>\n",
       "    </tr>\n",
       "    <tr>\n",
       "      <th>1</th>\n",
       "      <td>if_phy_vio</td>\n",
       "      <td>0.536114</td>\n",
       "    </tr>\n",
       "    <tr>\n",
       "      <th>2</th>\n",
       "      <td>if_sex_vio</td>\n",
       "      <td>0.536096</td>\n",
       "    </tr>\n",
       "    <tr>\n",
       "      <th>3</th>\n",
       "      <td>if_vio</td>\n",
       "      <td>0.536131</td>\n",
       "    </tr>\n",
       "  </tbody>\n",
       "</table>\n",
       "</div>"
      ],
      "text/plain": [
       "       Target  None Value Proportion\n",
       "0  if_emo_vio               0.536079\n",
       "1  if_phy_vio               0.536114\n",
       "2  if_sex_vio               0.536096\n",
       "3      if_vio               0.536131"
      ]
     },
     "execution_count": 65,
     "metadata": {},
     "output_type": "execute_result"
    }
   ],
   "source": [
    "target_none_df"
   ]
  },
  {
   "cell_type": "code",
   "execution_count": 72,
   "metadata": {},
   "outputs": [
    {
     "data": {
      "image/png": "[encoded data removed]",
      "text/plain": [
       "<Figure size 180x180 with 1 Axes>"
      ]
     },
     "metadata": {
      "needs_background": "light"
     },
     "output_type": "display_data"
    }
   ],
   "source": [
    "plt.figure(figsize=(1,1), dpi=180)\n",
    "sns.barplot(x=\"None Value Proportion\", y = 'Features', palette=\"ch:s=.25,rot=-.25\", \\\n",
    "                data = features_none_df).set_title('''Proportion of None Values in Features''')\n",
    "plt.show()"
   ]
  },
  {
   "cell_type": "code",
   "execution_count": 73,
   "metadata": {},
   "outputs": [
    {
     "data": {
      "image/png": "[encoded data removed]",
      "text/plain": [
       "<Figure size 180x180 with 1 Axes>"
      ]
     },
     "metadata": {
      "needs_background": "light"
     },
     "output_type": "display_data"
    }
   ],
   "source": [
    "plt.figure(figsize=(1,1), dpi=180)\n",
    "sns.barplot(x=\"None Value Proportion\", y = 'Target', palette=\"ch:s=.25,rot=-.25\", \\\n",
    "                data = target_none_df).set_title('''Proportion of None Values in Targets''')\n",
    "plt.show()"
   ]
  },
  {
   "cell_type": "code",
   "execution_count": 20,
   "metadata": {},
   "outputs": [
    {
     "data": {
      "text/plain": [
       "<AxesSubplot:>"
      ]
     },
     "execution_count": 20,
     "metadata": {},
     "output_type": "execute_result"
    },
    {
     "data": {
      "image/png": "[encoded data removed]",
      "text/plain": [
       "<Figure size 432x288 with 1 Axes>"
      ]
     },
     "metadata": {
      "needs_background": "light"
     },
     "output_type": "display_data"
    }
   ],
   "source": [
    "pipeline_classification.plot_df_na(df)"
   ]
  },
  {
   "cell_type": "code",
   "execution_count": null,
   "metadata": {},
   "outputs": [],
   "source": []
  },
  {
   "cell_type": "code",
   "execution_count": 78,
   "metadata": {},
   "outputs": [
    {
     "data": {
      "text/html": [
       "<style  type=\"text/css\" >\n",
       "#T_90059_row0_col0,#T_90059_row1_col1,#T_90059_row2_col2,#T_90059_row3_col3,#T_90059_row4_col4,#T_90059_row5_col5{\n",
       "            background-color:  #08306b;\n",
       "            color:  #f1f1f1;\n",
       "        }#T_90059_row0_col1{\n",
       "            background-color:  #d6e5f4;\n",
       "            color:  #000000;\n",
       "        }#T_90059_row0_col2{\n",
       "            background-color:  #e3eef8;\n",
       "            color:  #000000;\n",
       "        }#T_90059_row0_col3{\n",
       "            background-color:  #3686c0;\n",
       "            color:  #000000;\n",
       "        }#T_90059_row0_col4{\n",
       "            background-color:  #9ac8e0;\n",
       "            color:  #000000;\n",
       "        }#T_90059_row0_col5{\n",
       "            background-color:  #b8d5ea;\n",
       "            color:  #000000;\n",
       "        }#T_90059_row1_col0,#T_90059_row1_col3,#T_90059_row2_col0,#T_90059_row2_col4,#T_90059_row2_col5,#T_90059_row3_col1,#T_90059_row4_col2{\n",
       "            background-color:  #f7fbff;\n",
       "            color:  #000000;\n",
       "        }#T_90059_row1_col2{\n",
       "            background-color:  #e5eff9;\n",
       "            color:  #000000;\n",
       "        }#T_90059_row1_col4{\n",
       "            background-color:  #c7dbef;\n",
       "            color:  #000000;\n",
       "        }#T_90059_row1_col5{\n",
       "            background-color:  #ccdff1;\n",
       "            color:  #000000;\n",
       "        }#T_90059_row2_col1{\n",
       "            background-color:  #d8e7f5;\n",
       "            color:  #000000;\n",
       "        }#T_90059_row2_col3{\n",
       "            background-color:  #94c4df;\n",
       "            color:  #000000;\n",
       "        }#T_90059_row3_col0{\n",
       "            background-color:  #4a98c9;\n",
       "            color:  #000000;\n",
       "        }#T_90059_row3_col2{\n",
       "            background-color:  #a6cee4;\n",
       "            color:  #000000;\n",
       "        }#T_90059_row3_col4{\n",
       "            background-color:  #c2d9ee;\n",
       "            color:  #000000;\n",
       "        }#T_90059_row3_col5{\n",
       "            background-color:  #d9e7f5;\n",
       "            color:  #000000;\n",
       "        }#T_90059_row4_col0{\n",
       "            background-color:  #b2d2e8;\n",
       "            color:  #000000;\n",
       "        }#T_90059_row4_col1{\n",
       "            background-color:  #b4d3e9;\n",
       "            color:  #000000;\n",
       "        }#T_90059_row4_col3{\n",
       "            background-color:  #b0d2e7;\n",
       "            color:  #000000;\n",
       "        }#T_90059_row4_col5{\n",
       "            background-color:  #9fcae1;\n",
       "            color:  #000000;\n",
       "        }#T_90059_row5_col0{\n",
       "            background-color:  #c9ddf0;\n",
       "            color:  #000000;\n",
       "        }#T_90059_row5_col1{\n",
       "            background-color:  #b7d4ea;\n",
       "            color:  #000000;\n",
       "        }#T_90059_row5_col2{\n",
       "            background-color:  #f2f8fd;\n",
       "            color:  #000000;\n",
       "        }#T_90059_row5_col3{\n",
       "            background-color:  #c8dcf0;\n",
       "            color:  #000000;\n",
       "        }#T_90059_row5_col4{\n",
       "            background-color:  #97c6df;\n",
       "            color:  #000000;\n",
       "        }</style><table id=\"T_90059_\" ><thead>    <tr>        <th class=\"blank level0\" ></th>        <th class=\"col_heading level0 col0\" >age</th>        <th class=\"col_heading level0 col1\" >education</th>        <th class=\"col_heading level0 col2\" >num_household</th>        <th class=\"col_heading level0 col3\" >num_child</th>        <th class=\"col_heading level0 col4\" >if_own_house</th>        <th class=\"col_heading level0 col5\" >if_employment_current</th>    </tr></thead><tbody>\n",
       "                <tr>\n",
       "                        <th id=\"T_90059_level0_row0\" class=\"row_heading level0 row0\" >age</th>\n",
       "                        <td id=\"T_90059_row0_col0\" class=\"data row0 col0\" >1.000000</td>\n",
       "                        <td id=\"T_90059_row0_col1\" class=\"data row0 col1\" >-0.105109</td>\n",
       "                        <td id=\"T_90059_row0_col2\" class=\"data row0 col2\" >-0.104255</td>\n",
       "                        <td id=\"T_90059_row0_col3\" class=\"data row0 col3\" >0.559626</td>\n",
       "                        <td id=\"T_90059_row0_col4\" class=\"data row0 col4\" >0.241121</td>\n",
       "                        <td id=\"T_90059_row0_col5\" class=\"data row0 col5\" >0.158178</td>\n",
       "            </tr>\n",
       "            <tr>\n",
       "                        <th id=\"T_90059_level0_row1\" class=\"row_heading level0 row1\" >education</th>\n",
       "                        <td id=\"T_90059_row1_col0\" class=\"data row1 col0\" >-0.105109</td>\n",
       "                        <td id=\"T_90059_row1_col1\" class=\"data row1 col1\" >1.000000</td>\n",
       "                        <td id=\"T_90059_row1_col2\" class=\"data row1 col2\" >-0.118380</td>\n",
       "                        <td id=\"T_90059_row1_col3\" class=\"data row1 col3\" >-0.330872</td>\n",
       "                        <td id=\"T_90059_row1_col4\" class=\"data row1 col4\" >0.075785</td>\n",
       "                        <td id=\"T_90059_row1_col5\" class=\"data row1 col5\" >0.068526</td>\n",
       "            </tr>\n",
       "            <tr>\n",
       "                        <th id=\"T_90059_level0_row2\" class=\"row_heading level0 row2\" >num_household</th>\n",
       "                        <td id=\"T_90059_row2_col0\" class=\"data row2 col0\" >-0.104255</td>\n",
       "                        <td id=\"T_90059_row2_col1\" class=\"data row2 col1\" >-0.118380</td>\n",
       "                        <td id=\"T_90059_row2_col2\" class=\"data row2 col2\" >1.000000</td>\n",
       "                        <td id=\"T_90059_row2_col3\" class=\"data row2 col3\" >0.200378</td>\n",
       "                        <td id=\"T_90059_row2_col4\" class=\"data row2 col4\" >-0.230284</td>\n",
       "                        <td id=\"T_90059_row2_col5\" class=\"data row2 col5\" >-0.197053</td>\n",
       "            </tr>\n",
       "            <tr>\n",
       "                        <th id=\"T_90059_level0_row3\" class=\"row_heading level0 row3\" >num_child</th>\n",
       "                        <td id=\"T_90059_row3_col0\" class=\"data row3 col0\" >0.559626</td>\n",
       "                        <td id=\"T_90059_row3_col1\" class=\"data row3 col1\" >-0.330872</td>\n",
       "                        <td id=\"T_90059_row3_col2\" class=\"data row3 col2\" >0.200378</td>\n",
       "                        <td id=\"T_90059_row3_col3\" class=\"data row3 col3\" >1.000000</td>\n",
       "                        <td id=\"T_90059_row3_col4\" class=\"data row3 col4\" >0.092283</td>\n",
       "                        <td id=\"T_90059_row3_col5\" class=\"data row3 col5\" >-0.010939</td>\n",
       "            </tr>\n",
       "            <tr>\n",
       "                        <th id=\"T_90059_level0_row4\" class=\"row_heading level0 row4\" >if_own_house</th>\n",
       "                        <td id=\"T_90059_row4_col0\" class=\"data row4 col0\" >0.241121</td>\n",
       "                        <td id=\"T_90059_row4_col1\" class=\"data row4 col1\" >0.075785</td>\n",
       "                        <td id=\"T_90059_row4_col2\" class=\"data row4 col2\" >-0.230284</td>\n",
       "                        <td id=\"T_90059_row4_col3\" class=\"data row4 col3\" >0.092283</td>\n",
       "                        <td id=\"T_90059_row4_col4\" class=\"data row4 col4\" >1.000000</td>\n",
       "                        <td id=\"T_90059_row4_col5\" class=\"data row4 col5\" >0.251134</td>\n",
       "            </tr>\n",
       "            <tr>\n",
       "                        <th id=\"T_90059_level0_row5\" class=\"row_heading level0 row5\" >if_employment_current</th>\n",
       "                        <td id=\"T_90059_row5_col0\" class=\"data row5 col0\" >0.158178</td>\n",
       "                        <td id=\"T_90059_row5_col1\" class=\"data row5 col1\" >0.068526</td>\n",
       "                        <td id=\"T_90059_row5_col2\" class=\"data row5 col2\" >-0.197053</td>\n",
       "                        <td id=\"T_90059_row5_col3\" class=\"data row5 col3\" >-0.010939</td>\n",
       "                        <td id=\"T_90059_row5_col4\" class=\"data row5 col4\" >0.251134</td>\n",
       "                        <td id=\"T_90059_row5_col5\" class=\"data row5 col5\" >1.000000</td>\n",
       "            </tr>\n",
       "    </tbody></table>"
      ],
      "text/plain": [
       "<pandas.io.formats.style.Styler at 0x7fc5cb5568e0>"
      ]
     },
     "execution_count": 78,
     "metadata": {},
     "output_type": "execute_result"
    }
   ],
   "source": [
    "data_explore.generate_corr_graph(df[FEATURES])"
   ]
  },
  {
   "cell_type": "code",
   "execution_count": null,
   "metadata": {},
   "outputs": [],
   "source": []
  }
 ],
 "metadata": {
  "kernelspec": {
   "display_name": "Python 3",
   "language": "python",
   "name": "python3"
  },
  "language_info": {
   "codemirror_mode": {
    "name": "ipython",
    "version": 3
   },
   "file_extension": ".py",
   "mimetype": "text/x-python",
   "name": "python",
   "nbconvert_exporter": "python",
   "pygments_lexer": "ipython3",
   "version": "3.8.2"
  }
 },
 "nbformat": 4,
 "nbformat_minor": 4
}
