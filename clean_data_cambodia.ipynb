{
 "cells": [
  {
   "cell_type": "code",
   "execution_count": 1,
   "id": "gentle-asian",
   "metadata": {},
   "outputs": [],
   "source": [
    "import pandas as pd"
   ]
  },
  {
   "cell_type": "code",
   "execution_count": 2,
   "id": "logical-delay",
   "metadata": {},
   "outputs": [],
   "source": [
    "import warnings\n",
    "warnings.filterwarnings('ignore')"
   ]
  },
  {
   "cell_type": "markdown",
   "id": "union-answer",
   "metadata": {},
   "source": [
    "# Data Exploration using Cambodia dataset"
   ]
  },
  {
   "cell_type": "code",
   "execution_count": 3,
   "id": "retained-timer",
   "metadata": {},
   "outputs": [],
   "source": [
    "cambodia_individual = pd.read_stata(\"data/Cambodia_2014.DTA\")"
   ]
  },
  {
   "cell_type": "code",
   "execution_count": 4,
   "id": "protecting-letters",
   "metadata": {},
   "outputs": [
    {
     "data": {
      "text/plain": [
       "(17578, 4397)"
      ]
     },
     "execution_count": 4,
     "metadata": {},
     "output_type": "execute_result"
    }
   ],
   "source": [
    "cambodia_individual.shape"
   ]
  },
  {
   "cell_type": "code",
   "execution_count": 5,
   "id": "empty-nomination",
   "metadata": {},
   "outputs": [],
   "source": [
    "variables_code = [\"caseid\",\"v101\",\"v025\", \"d104\", \"d106\", \"d107\", \"d108\",\n",
    "              \"v133\",\"v190\", \"v501\", \"v502\",\"v731\", \"v741\", \"v012\", \n",
    "              \"v745a\",\"v745b\", \"v746\", \"v715\", \"v136\", \"v201\", \"v151\", \"v536\", \"v613\", \"v621\", \"v739\"]"
   ]
  },
  {
   "cell_type": "code",
   "execution_count": 6,
   "id": "silent-branch",
   "metadata": {},
   "outputs": [],
   "source": [
    "cambodia_individual = cambodia_individual[variables_code]"
   ]
  },
  {
   "cell_type": "code",
   "execution_count": 7,
   "id": "compressed-hollow",
   "metadata": {},
   "outputs": [
    {
     "name": "stdout",
     "output_type": "stream",
     "text": [
      "(17578, 25)\n"
     ]
    }
   ],
   "source": [
    "print(cambodia_individual.shape)"
   ]
  },
  {
   "cell_type": "code",
   "execution_count": 8,
   "id": "stylish-swiss",
   "metadata": {},
   "outputs": [
    {
     "data": {
      "text/plain": [
       "['currently in union/living with a man', 'never in union', 'formerly in union/living with a man']\n",
       "Categories (3, object): ['never in union' < 'currently in union/living with a man' < 'formerly in union/living with a man']"
      ]
     },
     "execution_count": 8,
     "metadata": {},
     "output_type": "execute_result"
    }
   ],
   "source": [
    "cambodia_individual['v502'].unique()"
   ]
  },
  {
   "cell_type": "markdown",
   "id": "fancy-apparatus",
   "metadata": {},
   "source": [
    "# Data Cleaning"
   ]
  },
  {
   "cell_type": "code",
   "execution_count": 9,
   "id": "lesser-mozambique",
   "metadata": {},
   "outputs": [],
   "source": [
    "# Filter: only include data with women who has been in marriage/union\n",
    "cambodia_individual['if_union'] = None\n",
    "cambodia_individual.loc[(cambodia_individual['v502'] == 1) | (cambodia_individual['v501'] == 'married') | (cambodia_individual['v502'].str.contains(\"currently\")),\n",
    "'if_union'] = 1"
   ]
  },
  {
   "cell_type": "code",
   "execution_count": 10,
   "id": "devoted-mercy",
   "metadata": {},
   "outputs": [
    {
     "name": "stdout",
     "output_type": "stream",
     "text": [
      "(11668, 26)\n"
     ]
    }
   ],
   "source": [
    "cambodia_individual_filtered = cambodia_individual[cambodia_individual['if_union'] == 1]\n",
    "print(cambodia_individual_filtered.shape)"
   ]
  },
  {
   "cell_type": "code",
   "execution_count": null,
   "id": "disturbed-affairs",
   "metadata": {},
   "outputs": [],
   "source": []
  },
  {
   "cell_type": "code",
   "execution_count": 12,
   "id": "hispanic-germany",
   "metadata": {},
   "outputs": [],
   "source": [
    "cambodia_individual_filtered['country'] = 'Cambodia'"
   ]
  },
  {
   "cell_type": "code",
   "execution_count": 13,
   "id": "steady-promise",
   "metadata": {},
   "outputs": [],
   "source": [
    "cambodia_individual_filtered['year'] = '2014'"
   ]
  },
  {
   "cell_type": "code",
   "execution_count": 14,
   "id": "fifteen-token",
   "metadata": {},
   "outputs": [],
   "source": [
    "rename_col = {\n",
    "    'v101': 'province',\n",
    "    'v012': 'age',\n",
    "    'v025': 'if_urban',\n",
    "    'v133': 'education',\n",
    "    'v190': 'wealth_index',\n",
    "    'v715': 'partner_edu',\n",
    "    'v745a': 'house_ownership',\n",
    "    'v745b': 'land_owenership',\n",
    "    'v731': 'if_employment',\n",
    "    'v741': 'employment_pay_method',\n",
    "    'v746': 'if_earn_more',\n",
    "    \"v136\": 'num_household', \n",
    "    \"v201\": 'num_child',\n",
    "    \"v151\": 'sex_head_household', \n",
    "    \"v536\": 'sexual_activity', \n",
    "    \"v613\": 'ideal_num_child', \n",
    "    \"v621\": 'partner_ideal_child', \n",
    "    \"v739\": 'money_decide_person'\n",
    "}"
   ]
  },
  {
   "cell_type": "code",
   "execution_count": 15,
   "id": "charitable-street",
   "metadata": {},
   "outputs": [],
   "source": [
    "cambodia_individual_filtered.rename(columns=rename_col, inplace=True)"
   ]
  },
  {
   "cell_type": "code",
   "execution_count": 16,
   "id": "valuable-bruce",
   "metadata": {},
   "outputs": [
    {
     "data": {
      "text/plain": [
       "caseid                      0\n",
       "province                    0\n",
       "v025                        0\n",
       "d104                     8445\n",
       "d106                     8445\n",
       "d107                     8445\n",
       "d108                     8445\n",
       "education                   0\n",
       "wealth_index                0\n",
       "v501                        0\n",
       "v502                        0\n",
       "if_employment               1\n",
       "employment_pay_method    2101\n",
       "age                         0\n",
       "house_ownership             0\n",
       "land_owenership             1\n",
       "v746                     2810\n",
       "partner_edu                 5\n",
       "num_household               0\n",
       "num_child                   0\n",
       "sex_head_household          0\n",
       "sexual_activity             2\n",
       "ideal_num_child             0\n",
       "partner_ideal_child       391\n",
       "money_decide_person      2810\n",
       "if_union                    0\n",
       "country                     0\n",
       "year                        0\n",
       "dtype: int64"
      ]
     },
     "execution_count": 16,
     "metadata": {},
     "output_type": "execute_result"
    }
   ],
   "source": [
    "# Check NA values\n",
    "cambodia_individual_filtered.isna().sum()"
   ]
  },
  {
   "cell_type": "code",
   "execution_count": 17,
   "id": "composed-teaching",
   "metadata": {},
   "outputs": [
    {
     "data": {
      "text/plain": [
       "if_emo_vio\n",
       "0    2530\n",
       "1     693\n",
       "Name: caseid, dtype: int64"
      ]
     },
     "execution_count": 17,
     "metadata": {},
     "output_type": "execute_result"
    }
   ],
   "source": [
    "# Target: if_emo_vio, if has emotional violence\n",
    "cambodia_individual_filtered['if_emo_vio'] = None\n",
    "cambodia_individual_filtered.loc[(cambodia_individual_filtered['d104'] == 'yes'),'if_emo_vio'] = 1\n",
    "cambodia_individual_filtered.loc[(cambodia_individual_filtered['d104'] == 'no'),'if_emo_vio'] = 0\n",
    "cambodia_individual_filtered.groupby('if_emo_vio').caseid.nunique()"
   ]
  },
  {
   "cell_type": "code",
   "execution_count": 18,
   "id": "bearing-aircraft",
   "metadata": {},
   "outputs": [
    {
     "data": {
      "text/plain": [
       "if_phy_vio\n",
       "0    2766\n",
       "1     457\n",
       "Name: caseid, dtype: int64"
      ]
     },
     "execution_count": 18,
     "metadata": {},
     "output_type": "execute_result"
    }
   ],
   "source": [
    "# Target: if_phy_vio, if has physical violence\n",
    "\n",
    "cambodia_individual_filtered['if_phy_vio'] = None\n",
    "cambodia_individual_filtered.loc[(cambodia_individual_filtered['d106'] == 'yes') | (cambodia_individual_filtered['d107'] == 'yes'),'if_phy_vio'] = 1\n",
    "cambodia_individual_filtered.loc[(cambodia_individual_filtered['d106'] == 'no') & (cambodia_individual_filtered['d107'] == 'no'),'if_phy_vio'] = 0\n",
    "cambodia_individual_filtered.groupby('if_phy_vio').caseid.nunique()"
   ]
  },
  {
   "cell_type": "code",
   "execution_count": 19,
   "id": "applied-basis",
   "metadata": {},
   "outputs": [
    {
     "data": {
      "text/plain": [
       "if_phy_vio_severe\n",
       "0    3034\n",
       "1     189\n",
       "Name: caseid, dtype: int64"
      ]
     },
     "execution_count": 19,
     "metadata": {},
     "output_type": "execute_result"
    }
   ],
   "source": [
    "# Target: if_phy_vio_severe, if has severe physical violence\n",
    "\n",
    "cambodia_individual_filtered['if_phy_vio_severe'] = None\n",
    "cambodia_individual_filtered.loc[(cambodia_individual_filtered['d107'] == 'yes'),'if_phy_vio_severe'] = 1\n",
    "cambodia_individual_filtered.loc[(cambodia_individual_filtered['d107'] == 'no'),'if_phy_vio_severe'] = 0\n",
    "cambodia_individual_filtered.groupby('if_phy_vio_severe').caseid.nunique()"
   ]
  },
  {
   "cell_type": "code",
   "execution_count": 20,
   "id": "thrown-incident",
   "metadata": {},
   "outputs": [
    {
     "data": {
      "text/plain": [
       "if_sex_vio\n",
       "0    3092\n",
       "1     131\n",
       "Name: caseid, dtype: int64"
      ]
     },
     "execution_count": 20,
     "metadata": {},
     "output_type": "execute_result"
    }
   ],
   "source": [
    "# Target: if_sex_vio, if has sexual violence\n",
    "\n",
    "cambodia_individual_filtered['if_sex_vio'] = None\n",
    "cambodia_individual_filtered.loc[(cambodia_individual_filtered['d108'] == 'yes'),'if_sex_vio'] = 1\n",
    "cambodia_individual_filtered.loc[(cambodia_individual_filtered['d108'] == 'no'),'if_sex_vio'] = 0\n",
    "cambodia_individual_filtered.groupby('if_sex_vio').caseid.nunique()"
   ]
  },
  {
   "cell_type": "code",
   "execution_count": 21,
   "id": "joint-completion",
   "metadata": {},
   "outputs": [
    {
     "data": {
      "text/plain": [
       "num_vio\n",
       "0    2406\n",
       "1     429\n",
       "2     312\n",
       "3      76\n",
       "Name: caseid, dtype: int64"
      ]
     },
     "execution_count": 21,
     "metadata": {},
     "output_type": "execute_result"
    }
   ],
   "source": [
    "# Target: num_vio, number of violence kinds the woman has\n",
    "\n",
    "cambodia_individual_filtered['num_vio'] = None\n",
    "cambodia_individual_filtered['num_vio'] = cambodia_individual_filtered['if_emo_vio'] + cambodia_individual_filtered['if_phy_vio'] + cambodia_individual_filtered['if_sex_vio']\n",
    "\n",
    "cambodia_individual_filtered.groupby('num_vio').caseid.nunique()"
   ]
  },
  {
   "cell_type": "code",
   "execution_count": 22,
   "id": "younger-links",
   "metadata": {},
   "outputs": [
    {
     "data": {
      "text/plain": [
       "if_vio\n",
       "0    2406\n",
       "1     817\n",
       "Name: caseid, dtype: int64"
      ]
     },
     "execution_count": 22,
     "metadata": {},
     "output_type": "execute_result"
    }
   ],
   "source": [
    "# Target: if_vio, if has any of the three kinds of violence\n",
    "\n",
    "cambodia_individual_filtered['if_vio'] = None\n",
    "cambodia_individual_filtered.loc[(cambodia_individual_filtered['num_vio'] > 0),'if_vio'] = 1\n",
    "cambodia_individual_filtered.loc[(cambodia_individual_filtered['num_vio'] == 0),'if_vio'] = 0\n",
    "\n",
    "cambodia_individual_filtered.groupby('if_vio').caseid.nunique()"
   ]
  },
  {
   "cell_type": "code",
   "execution_count": 23,
   "id": "spread-pearl",
   "metadata": {},
   "outputs": [],
   "source": [
    "# Features: Wealth_index_code\n",
    "\n",
    "wealth_index_dict = {'poorest': 0,\n",
    "                    'poorer': 1,\n",
    "                    'middle': 2,\n",
    "                    'richer': 3,\n",
    "                    'richest': 4}\n",
    "cambodia_individual_filtered['wealth_index_code'] = cambodia_individual_filtered['wealth_index'].replace(wealth_index_dict, inplace=False)"
   ]
  },
  {
   "cell_type": "code",
   "execution_count": 24,
   "id": "personal-anchor",
   "metadata": {},
   "outputs": [
    {
     "data": {
      "text/plain": [
       "if_own_house\n",
       "0    2785\n",
       "1    8883\n",
       "Name: caseid, dtype: int64"
      ]
     },
     "execution_count": 24,
     "metadata": {},
     "output_type": "execute_result"
    }
   ],
   "source": [
    "# Features: if_own_house\n",
    "\n",
    "cambodia_individual_filtered['if_own_house'] = 1\n",
    "cambodia_individual_filtered.loc[(cambodia_individual_filtered['house_ownership'] == 'does not own'),'if_own_house'] = 0\n",
    "\n",
    "cambodia_individual_filtered.groupby('if_own_house').caseid.nunique()"
   ]
  },
  {
   "cell_type": "code",
   "execution_count": 25,
   "id": "experimental-creature",
   "metadata": {},
   "outputs": [
    {
     "data": {
      "text/plain": [
       "if_own_land\n",
       "0    3888\n",
       "1    7780\n",
       "Name: caseid, dtype: int64"
      ]
     },
     "execution_count": 25,
     "metadata": {},
     "output_type": "execute_result"
    }
   ],
   "source": [
    "# Features: if_own_land\n",
    "\n",
    "cambodia_individual_filtered['if_own_land'] = 1\n",
    "cambodia_individual_filtered.loc[(cambodia_individual_filtered['land_owenership'] == 'does not own'),'if_own_land'] = 0\n",
    "\n",
    "cambodia_individual_filtered.groupby('if_own_land').caseid.nunique()"
   ]
  },
  {
   "cell_type": "code",
   "execution_count": 26,
   "id": "forbidden-least",
   "metadata": {},
   "outputs": [
    {
     "data": {
      "text/plain": [
       "if_employment_current\n",
       "0    3198\n",
       "1    8470\n",
       "Name: caseid, dtype: int64"
      ]
     },
     "execution_count": 26,
     "metadata": {},
     "output_type": "execute_result"
    }
   ],
   "source": [
    "# Features: if_employment_current\n",
    "\n",
    "cambodia_individual_filtered['if_employment_current'] = 0\n",
    "cambodia_individual_filtered.loc[(cambodia_individual_filtered['if_employment'] == 'have a job, but on leave last 7 days')\n",
    "                                 | (cambodia_individual_filtered['if_employment'] == 'currently working'), 'if_employment_current'] = 1\n",
    "\n",
    "cambodia_individual_filtered.groupby('if_employment_current').caseid.nunique()"
   ]
  },
  {
   "cell_type": "code",
   "execution_count": 27,
   "id": "loved-helena",
   "metadata": {},
   "outputs": [
    {
     "data": {
      "text/plain": [
       "Index(['caseid', 'province', 'v025', 'd104', 'd106', 'd107', 'd108',\n",
       "       'education', 'wealth_index', 'v501', 'v502', 'if_employment',\n",
       "       'employment_pay_method', 'age', 'house_ownership', 'land_owenership',\n",
       "       'v746', 'partner_edu', 'num_household', 'num_child',\n",
       "       'sex_head_household', 'sexual_activity', 'ideal_num_child',\n",
       "       'partner_ideal_child', 'money_decide_person', 'if_union', 'country',\n",
       "       'year', 'if_emo_vio', 'if_phy_vio', 'if_phy_vio_severe', 'if_sex_vio',\n",
       "       'num_vio', 'if_vio', 'wealth_index_code', 'if_own_house', 'if_own_land',\n",
       "       'if_employment_current'],\n",
       "      dtype='object')"
      ]
     },
     "execution_count": 27,
     "metadata": {},
     "output_type": "execute_result"
    }
   ],
   "source": [
    "cambodia_individual_filtered.columns"
   ]
  },
  {
   "cell_type": "code",
   "execution_count": 28,
   "id": "concerned-siemens",
   "metadata": {},
   "outputs": [],
   "source": [
    "kept_variable = ['caseid', 'country', 'year',\n",
    "                 'province','age','education', 'if_union', 'if_urban',\n",
    "                 'wealth_index','wealth_index_code', 'house_ownership', 'land_owenership', 'if_own_house', 'if_own_land',\n",
    "                 'if_employment', 'if_employment_current','employment_pay_method',\n",
    "                 'partner_edu', \n",
    "                 'num_household', 'num_child','sex_head_household', 'sexual_activity', 'ideal_num_child', 'partner_ideal_child', 'money_decide_person',\n",
    "                'if_emo_vio', 'if_phy_vio', 'if_phy_vio_severe', 'if_sex_vio', 'if_vio', 'num_vio']"
   ]
  },
  {
   "cell_type": "code",
   "execution_count": 29,
   "id": "remarkable-protocol",
   "metadata": {},
   "outputs": [],
   "source": [
    "output_df = cambodia_individual_filtered[kept_variable]"
   ]
  },
  {
   "cell_type": "code",
   "execution_count": 30,
   "id": "fixed-orange",
   "metadata": {},
   "outputs": [],
   "source": [
    "output_path = \"cambodia_2014_cleaned.csv\""
   ]
  },
  {
   "cell_type": "code",
   "execution_count": 31,
   "id": "friendly-jones",
   "metadata": {},
   "outputs": [],
   "source": [
    "output_df.to_csv(output_path)"
   ]
  },
  {
   "cell_type": "code",
   "execution_count": null,
   "id": "furnished-texture",
   "metadata": {},
   "outputs": [],
   "source": []
  },
  {
   "cell_type": "markdown",
   "id": "relative-seventh",
   "metadata": {},
   "source": [
    "### Merge Data of 5 countries"
   ]
  },
  {
   "cell_type": "code",
   "execution_count": 3,
   "id": "greek-possible",
   "metadata": {},
   "outputs": [],
   "source": [
    "import pandas as pd\n",
    "FILES = ['cleaned_data/cambodia_2014_cleaned.csv', \n",
    "         'cleaned_data/Maldives_2016_cleaned.csv', \n",
    "         'cleaned_data/Nepal_2016_cleaned.csv',\n",
    "         'cleaned_data/Pakistan_2017_cleaned.csv',\n",
    "         'cleaned_data/Philippines_2017_cleaned.csv']"
   ]
  },
  {
   "cell_type": "code",
   "execution_count": 12,
   "id": "acquired-lottery",
   "metadata": {},
   "outputs": [
    {
     "name": "stdout",
     "output_type": "stream",
     "text": [
      "(11668, 33)\n",
      "(5620, 33)\n",
      "(9904, 33)\n",
      "(14502, 33)\n",
      "(15445, 33)\n"
     ]
    }
   ],
   "source": [
    "df_lst = []\n",
    "for file in FILES:\n",
    "    df = pd.read_csv(file)\n",
    "    print(df.shape)\n",
    "    df_lst.append(df)\n",
    "\n",
    "result = pd.concat(df_lst)"
   ]
  },
  {
   "cell_type": "code",
   "execution_count": 7,
   "id": "following-rogers",
   "metadata": {},
   "outputs": [],
   "source": [
    "result.to_csv(\"five_countries_data.csv\")"
   ]
  },
  {
   "cell_type": "code",
   "execution_count": 10,
   "id": "going-klein",
   "metadata": {},
   "outputs": [
    {
     "data": {
      "text/plain": [
       "(57139, 33)"
      ]
     },
     "execution_count": 10,
     "metadata": {},
     "output_type": "execute_result"
    }
   ],
   "source": [
    "result.shape"
   ]
  },
  {
   "cell_type": "code",
   "execution_count": 11,
   "id": "meaning-qualification",
   "metadata": {},
   "outputs": [
    {
     "data": {
      "text/plain": [
       "0.0    19627\n",
       "1.0     6878\n",
       "Name: if_vio, dtype: int64"
      ]
     },
     "execution_count": 11,
     "metadata": {},
     "output_type": "execute_result"
    }
   ],
   "source": [
    "result['if_vio'].value_counts()"
   ]
  },
  {
   "cell_type": "code",
   "execution_count": 14,
   "id": "usual-indonesian",
   "metadata": {},
   "outputs": [
    {
     "name": "stdout",
     "output_type": "stream",
     "text": [
      "Unnamed: 0\n",
      "caseid\n",
      "country\n",
      "year\n",
      "province\n",
      "age\n",
      "education\n",
      "if_union\n",
      "if_urban\n",
      "wealth_index\n",
      "wealth_index_code\n",
      "house_ownership\n",
      "land_owenership\n",
      "if_own_house\n",
      "if_own_land\n",
      "if_employment\n",
      "if_employment_current\n",
      "employment_pay_method\n",
      "if_earn_more\n",
      "partner_edu\n",
      "num_household\n",
      "num_child\n",
      "sex_head_household\n",
      "sexual_activity\n",
      "ideal_num_child\n",
      "partner_ideal_child\n",
      "money_decide_person\n",
      "if_emo_vio\n",
      "if_phy_vio\n",
      "if_phy_vio_severe\n",
      "if_sex_vio\n",
      "if_vio\n",
      "num_vio\n"
     ]
    }
   ],
   "source": [
    "small_df = result.head()\n",
    "for row in small_df:\n",
    "    print(row)"
   ]
  },
  {
   "cell_type": "code",
   "execution_count": 15,
   "id": "silver-creek",
   "metadata": {},
   "outputs": [
    {
     "data": {
      "text/html": [
       "<div>\n",
       "<style scoped>\n",
       "    .dataframe tbody tr th:only-of-type {\n",
       "        vertical-align: middle;\n",
       "    }\n",
       "\n",
       "    .dataframe tbody tr th {\n",
       "        vertical-align: top;\n",
       "    }\n",
       "\n",
       "    .dataframe thead th {\n",
       "        text-align: right;\n",
       "    }\n",
       "</style>\n",
       "<table border=\"1\" class=\"dataframe\">\n",
       "  <thead>\n",
       "    <tr style=\"text-align: right;\">\n",
       "      <th></th>\n",
       "      <th>Unnamed: 0</th>\n",
       "      <th>caseid</th>\n",
       "      <th>country</th>\n",
       "      <th>year</th>\n",
       "      <th>province</th>\n",
       "      <th>age</th>\n",
       "      <th>education</th>\n",
       "      <th>if_union</th>\n",
       "      <th>if_urban</th>\n",
       "      <th>wealth_index</th>\n",
       "      <th>...</th>\n",
       "      <th>sexual_activity</th>\n",
       "      <th>ideal_num_child</th>\n",
       "      <th>partner_ideal_child</th>\n",
       "      <th>money_decide_person</th>\n",
       "      <th>if_emo_vio</th>\n",
       "      <th>if_phy_vio</th>\n",
       "      <th>if_phy_vio_severe</th>\n",
       "      <th>if_sex_vio</th>\n",
       "      <th>if_vio</th>\n",
       "      <th>num_vio</th>\n",
       "    </tr>\n",
       "  </thead>\n",
       "  <tbody>\n",
       "    <tr>\n",
       "      <th>0</th>\n",
       "      <td>0</td>\n",
       "      <td>1 1  1</td>\n",
       "      <td>Cambodia</td>\n",
       "      <td>2014</td>\n",
       "      <td>banteay mean chey</td>\n",
       "      <td>34</td>\n",
       "      <td>4</td>\n",
       "      <td>1</td>\n",
       "      <td>rural</td>\n",
       "      <td>middle</td>\n",
       "      <td>...</td>\n",
       "      <td>not active in last 4 weeks - not postpartum ab...</td>\n",
       "      <td>2</td>\n",
       "      <td>both want same</td>\n",
       "      <td>respondent alone</td>\n",
       "      <td>0.0</td>\n",
       "      <td>0.0</td>\n",
       "      <td>0.0</td>\n",
       "      <td>0.0</td>\n",
       "      <td>0.0</td>\n",
       "      <td>0.0</td>\n",
       "    </tr>\n",
       "    <tr>\n",
       "      <th>1</th>\n",
       "      <td>1</td>\n",
       "      <td>1 2  2</td>\n",
       "      <td>Cambodia</td>\n",
       "      <td>2014</td>\n",
       "      <td>banteay mean chey</td>\n",
       "      <td>37</td>\n",
       "      <td>0</td>\n",
       "      <td>1</td>\n",
       "      <td>rural</td>\n",
       "      <td>poorer</td>\n",
       "      <td>...</td>\n",
       "      <td>not active in last 4 weeks - postpartum abstin...</td>\n",
       "      <td>2</td>\n",
       "      <td>both want same</td>\n",
       "      <td>respondent and husband/partner</td>\n",
       "      <td>NaN</td>\n",
       "      <td>NaN</td>\n",
       "      <td>NaN</td>\n",
       "      <td>NaN</td>\n",
       "      <td>NaN</td>\n",
       "      <td>NaN</td>\n",
       "    </tr>\n",
       "    <tr>\n",
       "      <th>2</th>\n",
       "      <td>2</td>\n",
       "      <td>1 3  2</td>\n",
       "      <td>Cambodia</td>\n",
       "      <td>2014</td>\n",
       "      <td>banteay mean chey</td>\n",
       "      <td>45</td>\n",
       "      <td>8</td>\n",
       "      <td>1</td>\n",
       "      <td>rural</td>\n",
       "      <td>richer</td>\n",
       "      <td>...</td>\n",
       "      <td>not active in last 4 weeks - not postpartum ab...</td>\n",
       "      <td>5</td>\n",
       "      <td>husband wants more</td>\n",
       "      <td>respondent and husband/partner</td>\n",
       "      <td>NaN</td>\n",
       "      <td>NaN</td>\n",
       "      <td>NaN</td>\n",
       "      <td>NaN</td>\n",
       "      <td>NaN</td>\n",
       "      <td>NaN</td>\n",
       "    </tr>\n",
       "    <tr>\n",
       "      <th>3</th>\n",
       "      <td>5</td>\n",
       "      <td>1 5  3</td>\n",
       "      <td>Cambodia</td>\n",
       "      <td>2014</td>\n",
       "      <td>banteay mean chey</td>\n",
       "      <td>22</td>\n",
       "      <td>8</td>\n",
       "      <td>1</td>\n",
       "      <td>rural</td>\n",
       "      <td>richer</td>\n",
       "      <td>...</td>\n",
       "      <td>active in last 4 weeks</td>\n",
       "      <td>2</td>\n",
       "      <td>both want same</td>\n",
       "      <td>NaN</td>\n",
       "      <td>NaN</td>\n",
       "      <td>NaN</td>\n",
       "      <td>NaN</td>\n",
       "      <td>NaN</td>\n",
       "      <td>NaN</td>\n",
       "      <td>NaN</td>\n",
       "    </tr>\n",
       "    <tr>\n",
       "      <th>4</th>\n",
       "      <td>6</td>\n",
       "      <td>1 6  3</td>\n",
       "      <td>Cambodia</td>\n",
       "      <td>2014</td>\n",
       "      <td>banteay mean chey</td>\n",
       "      <td>21</td>\n",
       "      <td>9</td>\n",
       "      <td>1</td>\n",
       "      <td>rural</td>\n",
       "      <td>richer</td>\n",
       "      <td>...</td>\n",
       "      <td>not active in last 4 weeks - postpartum abstin...</td>\n",
       "      <td>2</td>\n",
       "      <td>husband wants more</td>\n",
       "      <td>NaN</td>\n",
       "      <td>NaN</td>\n",
       "      <td>NaN</td>\n",
       "      <td>NaN</td>\n",
       "      <td>NaN</td>\n",
       "      <td>NaN</td>\n",
       "      <td>NaN</td>\n",
       "    </tr>\n",
       "  </tbody>\n",
       "</table>\n",
       "<p>5 rows × 33 columns</p>\n",
       "</div>"
      ],
      "text/plain": [
       "   Unnamed: 0           caseid   country  year           province  age  \\\n",
       "0           0           1 1  1  Cambodia  2014  banteay mean chey   34   \n",
       "1           1           1 2  2  Cambodia  2014  banteay mean chey   37   \n",
       "2           2           1 3  2  Cambodia  2014  banteay mean chey   45   \n",
       "3           5           1 5  3  Cambodia  2014  banteay mean chey   22   \n",
       "4           6           1 6  3  Cambodia  2014  banteay mean chey   21   \n",
       "\n",
       "   education  if_union if_urban wealth_index  ...  \\\n",
       "0          4         1    rural       middle  ...   \n",
       "1          0         1    rural       poorer  ...   \n",
       "2          8         1    rural       richer  ...   \n",
       "3          8         1    rural       richer  ...   \n",
       "4          9         1    rural       richer  ...   \n",
       "\n",
       "                                     sexual_activity ideal_num_child  \\\n",
       "0  not active in last 4 weeks - not postpartum ab...               2   \n",
       "1  not active in last 4 weeks - postpartum abstin...               2   \n",
       "2  not active in last 4 weeks - not postpartum ab...               5   \n",
       "3                             active in last 4 weeks               2   \n",
       "4  not active in last 4 weeks - postpartum abstin...               2   \n",
       "\n",
       "  partner_ideal_child             money_decide_person  if_emo_vio if_phy_vio  \\\n",
       "0      both want same                respondent alone         0.0        0.0   \n",
       "1      both want same  respondent and husband/partner         NaN        NaN   \n",
       "2  husband wants more  respondent and husband/partner         NaN        NaN   \n",
       "3      both want same                             NaN         NaN        NaN   \n",
       "4  husband wants more                             NaN         NaN        NaN   \n",
       "\n",
       "   if_phy_vio_severe if_sex_vio if_vio num_vio  \n",
       "0                0.0        0.0    0.0     0.0  \n",
       "1                NaN        NaN    NaN     NaN  \n",
       "2                NaN        NaN    NaN     NaN  \n",
       "3                NaN        NaN    NaN     NaN  \n",
       "4                NaN        NaN    NaN     NaN  \n",
       "\n",
       "[5 rows x 33 columns]"
      ]
     },
     "execution_count": 15,
     "metadata": {},
     "output_type": "execute_result"
    }
   ],
   "source": [
    "small_df"
   ]
  },
  {
   "cell_type": "code",
   "execution_count": null,
   "id": "reported-mills",
   "metadata": {},
   "outputs": [],
   "source": []
  }
 ],
 "metadata": {
  "kernelspec": {
   "display_name": "Python 3",
   "language": "python",
   "name": "python3"
  },
  "language_info": {
   "codemirror_mode": {
    "name": "ipython",
    "version": 3
   },
   "file_extension": ".py",
   "mimetype": "text/x-python",
   "name": "python",
   "nbconvert_exporter": "python",
   "pygments_lexer": "ipython3",
   "version": "3.8.8"
  }
 },
 "nbformat": 4,
 "nbformat_minor": 5
}
