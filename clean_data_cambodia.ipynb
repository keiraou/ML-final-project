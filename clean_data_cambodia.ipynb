{
 "cells": [
  {
   "cell_type": "code",
   "execution_count": 1,
   "id": "respected-estimate",
   "metadata": {},
   "outputs": [],
   "source": [
    "import pandas as pd"
   ]
  },
  {
   "cell_type": "code",
   "execution_count": 2,
   "id": "changed-ozone",
   "metadata": {},
   "outputs": [],
   "source": [
    "import warnings\n",
    "warnings.filterwarnings('ignore')"
   ]
  },
  {
   "cell_type": "markdown",
   "id": "smart-advisory",
   "metadata": {},
   "source": [
    "# Data Exploration using Cambodia dataset"
   ]
  },
  {
   "cell_type": "code",
   "execution_count": 3,
   "id": "ultimate-spare",
   "metadata": {},
   "outputs": [],
   "source": [
    "cambodia_individual = pd.read_stata(\"data/Cambodia_individual.DTA\")"
   ]
  },
  {
   "cell_type": "code",
   "execution_count": 4,
   "id": "retired-framing",
   "metadata": {},
   "outputs": [
    {
     "data": {
      "text/plain": [
       "(17578, 4397)"
      ]
     },
     "execution_count": 4,
     "metadata": {},
     "output_type": "execute_result"
    }
   ],
   "source": [
    "cambodia_individual.shape"
   ]
  },
  {
   "cell_type": "code",
   "execution_count": 5,
   "id": "early-school",
   "metadata": {},
   "outputs": [],
   "source": [
    "variables_code = [\"caseid\",\"v101\",\"v025\", \"d104\", \"d106\", \"d107\", \"d108\",\n",
    "              \"v133\",\"v190\", \"v501\", \"v502\",\"v731\", \"v741\", \"v012\", \n",
    "              \"v745a\",\"v745b\", \"v746\", \"v715\", \"v136\", \"v201\", \"v151\", \"v536\", \"v613\", \"v621\", \"v739\"]"
   ]
  },
  {
   "cell_type": "code",
   "execution_count": 6,
   "id": "pregnant-audit",
   "metadata": {},
   "outputs": [],
   "source": [
    "cambodia_individual = cambodia_individual[variables_code]"
   ]
  },
  {
   "cell_type": "code",
   "execution_count": 7,
   "id": "accompanied-witch",
   "metadata": {},
   "outputs": [
    {
     "name": "stdout",
     "output_type": "stream",
     "text": [
      "(17578, 25)\n"
     ]
    }
   ],
   "source": [
    "print(cambodia_individual.shape)"
   ]
  },
  {
   "cell_type": "code",
   "execution_count": 8,
   "id": "digital-curve",
   "metadata": {},
   "outputs": [
    {
     "data": {
      "text/plain": [
       "['currently in union/living with a man', 'never in union', 'formerly in union/living with a man']\n",
       "Categories (3, object): ['never in union' < 'currently in union/living with a man' < 'formerly in union/living with a man']"
      ]
     },
     "execution_count": 8,
     "metadata": {},
     "output_type": "execute_result"
    }
   ],
   "source": [
    "cambodia_individual['v502'].unique()"
   ]
  },
  {
   "cell_type": "markdown",
   "id": "noted-dynamics",
   "metadata": {},
   "source": [
    "# Data Cleaning"
   ]
  },
  {
   "cell_type": "code",
   "execution_count": 9,
   "id": "numerous-medicaid",
   "metadata": {},
   "outputs": [],
   "source": [
    "# Filter: only include data with women who has been in marriage/union\n",
    "cambodia_individual['if_union'] = None\n",
    "cambodia_individual.loc[(cambodia_individual['v502'] == 1) | (cambodia_individual['v501'] == 'married') | (cambodia_individual['v502'].str.contains(\"currently\")),\n",
    "'if_union'] = 1"
   ]
  },
  {
   "cell_type": "code",
   "execution_count": 10,
   "id": "accessible-cloud",
   "metadata": {},
   "outputs": [
    {
     "name": "stdout",
     "output_type": "stream",
     "text": [
      "(11668, 26)\n"
     ]
    }
   ],
   "source": [
    "cambodia_individual_filtered = cambodia_individual[cambodia_individual['if_union'] == 1]\n",
    "print(cambodia_individual_filtered.shape)"
   ]
  },
  {
   "cell_type": "code",
   "execution_count": 11,
   "id": "bearing-scenario",
   "metadata": {},
   "outputs": [],
   "source": [
    "kept_variable = ['province','age','education','wealth_index','partner_edu']"
   ]
  },
  {
   "cell_type": "code",
   "execution_count": 12,
   "id": "formal-warrant",
   "metadata": {},
   "outputs": [],
   "source": [
    "cambodia_individual_filtered['country'] = 'Cambodia'"
   ]
  },
  {
   "cell_type": "code",
   "execution_count": 13,
   "id": "stylish-spice",
   "metadata": {},
   "outputs": [],
   "source": [
    "cambodia_individual_filtered['year'] = '2014'"
   ]
  },
  {
   "cell_type": "code",
   "execution_count": 14,
   "id": "least-punch",
   "metadata": {},
   "outputs": [],
   "source": [
    "rename_col = {\n",
    "    'v101': 'province',\n",
    "    'v012': 'age',\n",
    "    'v133': 'education',\n",
    "    'v190': 'wealth_index',\n",
    "    'v715': 'partner_edu',\n",
    "    'v745a': 'house_ownership',\n",
    "    'v745b': 'land_owenership',\n",
    "    'v731': 'if_employment',\n",
    "    'v741': 'employment_pay_method',\n",
    "    \"v136\": 'num_household', \n",
    "    \"v201\": 'num_child',\n",
    "    \"v151\": 'sex_head_household', \n",
    "    \"v536\": 'sexual_activity', \n",
    "    \"v613\": 'ideal_num_child', \n",
    "    \"v621\": 'partner_ideal_child', \n",
    "    \"v739\": 'money_decide_person'\n",
    "}"
   ]
  },
  {
   "cell_type": "code",
   "execution_count": 15,
   "id": "alpha-electron",
   "metadata": {},
   "outputs": [],
   "source": [
    "cambodia_individual_filtered.rename(columns=rename_col, inplace=True)"
   ]
  },
  {
   "cell_type": "code",
   "execution_count": 16,
   "id": "closed-trustee",
   "metadata": {},
   "outputs": [
    {
     "data": {
      "text/plain": [
       "caseid                      0\n",
       "province                    0\n",
       "v025                        0\n",
       "d104                     8445\n",
       "d106                     8445\n",
       "d107                     8445\n",
       "d108                     8445\n",
       "education                   0\n",
       "wealth_index                0\n",
       "v501                        0\n",
       "v502                        0\n",
       "if_employment               1\n",
       "employment_pay_method    2101\n",
       "age                         0\n",
       "house_ownership             0\n",
       "land_owenership             1\n",
       "v746                     2810\n",
       "partner_edu                 5\n",
       "num_household               0\n",
       "num_child                   0\n",
       "sex_head_household          0\n",
       "sexual_activity             2\n",
       "ideal_num_child             0\n",
       "partner_ideal_child       391\n",
       "money_decide_person      2810\n",
       "if_union                    0\n",
       "country                     0\n",
       "year                        0\n",
       "dtype: int64"
      ]
     },
     "execution_count": 16,
     "metadata": {},
     "output_type": "execute_result"
    }
   ],
   "source": [
    "# Check NA values\n",
    "cambodia_individual_filtered.isna().sum()"
   ]
  },
  {
   "cell_type": "code",
   "execution_count": 17,
   "id": "legislative-latex",
   "metadata": {},
   "outputs": [
    {
     "data": {
      "text/plain": [
       "if_emo_vio\n",
       "0    2530\n",
       "1     693\n",
       "Name: caseid, dtype: int64"
      ]
     },
     "execution_count": 17,
     "metadata": {},
     "output_type": "execute_result"
    }
   ],
   "source": [
    "# Target: if_emo_vio, if has emotional violence\n",
    "cambodia_individual_filtered['if_emo_vio'] = None\n",
    "cambodia_individual_filtered.loc[(cambodia_individual_filtered['d104'] == 'yes'),'if_emo_vio'] = 1\n",
    "cambodia_individual_filtered.loc[(cambodia_individual_filtered['d104'] == 'no'),'if_emo_vio'] = 0\n",
    "cambodia_individual_filtered.groupby('if_emo_vio').caseid.nunique()"
   ]
  },
  {
   "cell_type": "code",
   "execution_count": 18,
   "id": "previous-hamilton",
   "metadata": {},
   "outputs": [
    {
     "data": {
      "text/plain": [
       "if_phy_vio\n",
       "0    2766\n",
       "1     457\n",
       "Name: caseid, dtype: int64"
      ]
     },
     "execution_count": 18,
     "metadata": {},
     "output_type": "execute_result"
    }
   ],
   "source": [
    "# Target: if_phy_vio, if has physical violence\n",
    "\n",
    "cambodia_individual_filtered['if_phy_vio'] = None\n",
    "cambodia_individual_filtered.loc[(cambodia_individual_filtered['d106'] == 'yes') | (cambodia_individual_filtered['d107'] == 'yes'),'if_phy_vio'] = 1\n",
    "cambodia_individual_filtered.loc[(cambodia_individual_filtered['d106'] == 'no') & (cambodia_individual_filtered['d107'] == 'no'),'if_phy_vio'] = 0\n",
    "cambodia_individual_filtered.groupby('if_phy_vio').caseid.nunique()"
   ]
  },
  {
   "cell_type": "code",
   "execution_count": 19,
   "id": "oriented-immigration",
   "metadata": {},
   "outputs": [
    {
     "data": {
      "text/plain": [
       "if_phy_vio_severe\n",
       "0    3034\n",
       "1     189\n",
       "Name: caseid, dtype: int64"
      ]
     },
     "execution_count": 19,
     "metadata": {},
     "output_type": "execute_result"
    }
   ],
   "source": [
    "# Target: if_phy_vio_severe, if has severe physical violence\n",
    "\n",
    "cambodia_individual_filtered['if_phy_vio_severe'] = None\n",
    "cambodia_individual_filtered.loc[(cambodia_individual_filtered['d107'] == 'yes'),'if_phy_vio_severe'] = 1\n",
    "cambodia_individual_filtered.loc[(cambodia_individual_filtered['d107'] == 'no'),'if_phy_vio_severe'] = 0\n",
    "cambodia_individual_filtered.groupby('if_phy_vio_severe').caseid.nunique()"
   ]
  },
  {
   "cell_type": "code",
   "execution_count": 20,
   "id": "intelligent-munich",
   "metadata": {},
   "outputs": [
    {
     "data": {
      "text/plain": [
       "if_sex_vio\n",
       "0    3092\n",
       "1     131\n",
       "Name: caseid, dtype: int64"
      ]
     },
     "execution_count": 20,
     "metadata": {},
     "output_type": "execute_result"
    }
   ],
   "source": [
    "# Target: if_sex_vio, if has sexual violence\n",
    "\n",
    "cambodia_individual_filtered['if_sex_vio'] = None\n",
    "cambodia_individual_filtered.loc[(cambodia_individual_filtered['d108'] == 'yes'),'if_sex_vio'] = 1\n",
    "cambodia_individual_filtered.loc[(cambodia_individual_filtered['d108'] == 'no'),'if_sex_vio'] = 0\n",
    "cambodia_individual_filtered.groupby('if_sex_vio').caseid.nunique()"
   ]
  },
  {
   "cell_type": "code",
   "execution_count": 21,
   "id": "expressed-sweden",
   "metadata": {},
   "outputs": [
    {
     "data": {
      "text/plain": [
       "num_vio\n",
       "0    2406\n",
       "1     429\n",
       "2     312\n",
       "3      76\n",
       "Name: caseid, dtype: int64"
      ]
     },
     "execution_count": 21,
     "metadata": {},
     "output_type": "execute_result"
    }
   ],
   "source": [
    "# Target: num_vio, number of violence kinds the woman has\n",
    "\n",
    "cambodia_individual_filtered['num_vio'] = None\n",
    "cambodia_individual_filtered['num_vio'] = cambodia_individual_filtered['if_emo_vio'] + cambodia_individual_filtered['if_phy_vio'] + cambodia_individual_filtered['if_sex_vio']\n",
    "\n",
    "cambodia_individual_filtered.groupby('num_vio').caseid.nunique()"
   ]
  },
  {
   "cell_type": "code",
   "execution_count": 22,
   "id": "numerical-christopher",
   "metadata": {},
   "outputs": [
    {
     "data": {
      "text/plain": [
       "if_vio\n",
       "0    2406\n",
       "1     817\n",
       "Name: caseid, dtype: int64"
      ]
     },
     "execution_count": 22,
     "metadata": {},
     "output_type": "execute_result"
    }
   ],
   "source": [
    "# Target: if_vio, if has any of the three kinds of violence\n",
    "\n",
    "cambodia_individual_filtered['if_vio'] = None\n",
    "cambodia_individual_filtered.loc[(cambodia_individual_filtered['num_vio'] > 0),'if_vio'] = 1\n",
    "cambodia_individual_filtered.loc[(cambodia_individual_filtered['num_vio'] == 0),'if_vio'] = 0\n",
    "\n",
    "cambodia_individual_filtered.groupby('if_vio').caseid.nunique()"
   ]
  },
  {
   "cell_type": "code",
   "execution_count": 23,
   "id": "broadband-captain",
   "metadata": {},
   "outputs": [],
   "source": [
    "# Features: Wealth_index_code\n",
    "\n",
    "wealth_index_dict = {'poorest': 0,\n",
    "                    'poorer': 1,\n",
    "                    'middle': 2,\n",
    "                    'richer': 3,\n",
    "                    'richest': 4}\n",
    "cambodia_individual_filtered['wealth_index_code'] = cambodia_individual_filtered['wealth_index'].replace(wealth_index_dict, inplace=False)"
   ]
  },
  {
   "cell_type": "code",
   "execution_count": 24,
   "id": "introductory-swift",
   "metadata": {},
   "outputs": [
    {
     "data": {
      "text/plain": [
       "if_own_house\n",
       "0    2785\n",
       "1    8883\n",
       "Name: caseid, dtype: int64"
      ]
     },
     "execution_count": 24,
     "metadata": {},
     "output_type": "execute_result"
    }
   ],
   "source": [
    "# Features: if_own_house\n",
    "\n",
    "cambodia_individual_filtered['if_own_house'] = 1\n",
    "cambodia_individual_filtered.loc[(cambodia_individual_filtered['house_ownership'] == 'does not own'),'if_own_house'] = 0\n",
    "\n",
    "cambodia_individual_filtered.groupby('if_own_house').caseid.nunique()"
   ]
  },
  {
   "cell_type": "code",
   "execution_count": 25,
   "id": "social-relation",
   "metadata": {},
   "outputs": [
    {
     "data": {
      "text/plain": [
       "if_own_land\n",
       "0    3888\n",
       "1    7780\n",
       "Name: caseid, dtype: int64"
      ]
     },
     "execution_count": 25,
     "metadata": {},
     "output_type": "execute_result"
    }
   ],
   "source": [
    "# Features: if_own_land\n",
    "\n",
    "cambodia_individual_filtered['if_own_land'] = 1\n",
    "cambodia_individual_filtered.loc[(cambodia_individual_filtered['land_owenership'] == 'does not own'),'if_own_land'] = 0\n",
    "\n",
    "cambodia_individual_filtered.groupby('if_own_land').caseid.nunique()"
   ]
  },
  {
   "cell_type": "code",
   "execution_count": 26,
   "id": "incorrect-assets",
   "metadata": {},
   "outputs": [
    {
     "data": {
      "text/plain": [
       "if_employment_current\n",
       "0    3198\n",
       "1    8470\n",
       "Name: caseid, dtype: int64"
      ]
     },
     "execution_count": 26,
     "metadata": {},
     "output_type": "execute_result"
    }
   ],
   "source": [
    "# Features: if_employment_current\n",
    "\n",
    "cambodia_individual_filtered['if_employment_current'] = 0\n",
    "cambodia_individual_filtered.loc[(cambodia_individual_filtered['if_employment'] == 'have a job, but on leave last 7 days')\n",
    "                                 | (cambodia_individual_filtered['if_employment'] == 'currently working'), 'if_employment_current'] = 1\n",
    "\n",
    "cambodia_individual_filtered.groupby('if_employment_current').caseid.nunique()"
   ]
  },
  {
   "cell_type": "code",
   "execution_count": 27,
   "id": "aggressive-membership",
   "metadata": {},
   "outputs": [
    {
     "data": {
      "text/plain": [
       "Index(['caseid', 'province', 'v025', 'd104', 'd106', 'd107', 'd108',\n",
       "       'education', 'wealth_index', 'v501', 'v502', 'if_employment',\n",
       "       'employment_pay_method', 'age', 'house_ownership', 'land_owenership',\n",
       "       'v746', 'partner_edu', 'num_household', 'num_child',\n",
       "       'sex_head_household', 'sexual_activity', 'ideal_num_child',\n",
       "       'partner_ideal_child', 'money_decide_person', 'if_union', 'country',\n",
       "       'year', 'if_emo_vio', 'if_phy_vio', 'if_phy_vio_severe', 'if_sex_vio',\n",
       "       'num_vio', 'if_vio', 'wealth_index_code', 'if_own_house', 'if_own_land',\n",
       "       'if_employment_current'],\n",
       "      dtype='object')"
      ]
     },
     "execution_count": 27,
     "metadata": {},
     "output_type": "execute_result"
    }
   ],
   "source": [
    "cambodia_individual_filtered.columns"
   ]
  },
  {
   "cell_type": "code",
   "execution_count": 28,
   "id": "common-texas",
   "metadata": {},
   "outputs": [],
   "source": [
    "kept_variable = ['caseid', 'country', 'year',\n",
    "                 'province','age','education', 'if_union',\n",
    "                 'wealth_index','wealth_index_code', 'house_ownership', 'land_owenership', 'if_own_house', 'if_own_land',\n",
    "                 'if_employment', 'if_employment_current','employment_pay_method',\n",
    "                 'partner_edu', \n",
    "                 'num_household', 'num_child','sex_head_household', 'sexual_activity', 'ideal_num_child', 'partner_ideal_child', 'money_decide_person',\n",
    "                'if_emo_vio', 'if_phy_vio', 'if_phy_vio_severe', 'if_sex_vio', 'if_vio', 'num_vio']"
   ]
  },
  {
   "cell_type": "code",
   "execution_count": 29,
   "id": "immediate-oriental",
   "metadata": {},
   "outputs": [],
   "source": [
    "output_df = cambodia_individual_filtered[kept_variable]"
   ]
  },
  {
   "cell_type": "code",
   "execution_count": 30,
   "id": "swiss-contrast",
   "metadata": {},
   "outputs": [],
   "source": [
    "output_path = \"cambodia_2014_cleaned.csv\""
   ]
  },
  {
   "cell_type": "code",
   "execution_count": 31,
   "id": "respected-conducting",
   "metadata": {},
   "outputs": [],
   "source": [
    "output_df.to_csv(output_path)"
   ]
  },
  {
   "cell_type": "code",
   "execution_count": null,
   "id": "basic-handling",
   "metadata": {},
   "outputs": [],
   "source": []
  },
  {
   "cell_type": "code",
   "execution_count": null,
   "id": "noted-bernard",
   "metadata": {},
   "outputs": [],
   "source": []
  },
  {
   "cell_type": "code",
   "execution_count": null,
   "id": "vietnamese-episode",
   "metadata": {},
   "outputs": [],
   "source": []
  },
  {
   "cell_type": "code",
   "execution_count": null,
   "id": "informal-mathematics",
   "metadata": {},
   "outputs": [],
   "source": []
  }
 ],
 "metadata": {
  "kernelspec": {
   "display_name": "Python 3",
   "language": "python",
   "name": "python3"
  },
  "language_info": {
   "codemirror_mode": {
    "name": "ipython",
    "version": 3
   },
   "file_extension": ".py",
   "mimetype": "text/x-python",
   "name": "python",
   "nbconvert_exporter": "python",
   "pygments_lexer": "ipython3",
   "version": "3.8.8"
  }
 },
 "nbformat": 4,
 "nbformat_minor": 5
}
